{
 "cells": [
  {
   "cell_type": "code",
   "execution_count": 1,
   "metadata": {},
   "outputs": [
    {
     "name": "stdout",
     "output_type": "stream",
     "text": [
      "Great Expectations context initialized successfully\n"
     ]
    }
   ],
   "source": [
    "import pandas as pd\n",
    "import great_expectations as ge\n",
    "from great_expectations.data_context import FileDataContext\n",
    "import warnings\n",
    "\n",
    "warnings.filterwarnings(\"ignore\", category=DeprecationWarning)\n",
    "df = pd.read_csv('project-m3/dags/P2M3_handwitanto_abraham_data_clean.csv')\n",
    "# Initialize the FileDataContext directly by providing the project_root_dir\n",
    "context = ge.get_context()\n",
    "\n",
    "# Check that the context is created successfully\n",
    "print(\"Great Expectations context initialized successfully\")"
   ]
  },
  {
   "cell_type": "code",
   "execution_count": 3,
   "metadata": {},
   "outputs": [],
   "source": [
    "data_source = context.data_sources.add_pandas(\"pandas_3\")\n",
    "data_asset = data_source.add_dataframe_asset(name=\"pd dataframe asset\")"
   ]
  },
  {
   "cell_type": "code",
   "execution_count": 4,
   "metadata": {},
   "outputs": [],
   "source": [
    "batch_definition = data_asset.add_batch_definition_whole_dataframe(\"batch definition\")\n",
    "batch = batch_definition.get_batch(batch_parameters={\"dataframe\": df})"
   ]
  },
  {
   "cell_type": "code",
   "execution_count": 5,
   "metadata": {},
   "outputs": [
    {
     "data": {
      "application/vnd.jupyter.widget-view+json": {
       "model_id": "59205e160173434796b27bc9d1ef4582",
       "version_major": 2,
       "version_minor": 0
      },
      "text/plain": [
       "Calculating Metrics:   0%|          | 0/10 [00:00<?, ?it/s]"
      ]
     },
     "metadata": {},
     "output_type": "display_data"
    },
    {
     "name": "stdout",
     "output_type": "stream",
     "text": [
      "{\n",
      "  \"success\": true,\n",
      "  \"expectation_config\": {\n",
      "    \"type\": \"expect_column_values_to_be_unique\",\n",
      "    \"kwargs\": {\n",
      "      \"batch_id\": \"pandas_3-pd dataframe asset\",\n",
      "      \"column\": \"user_id\"\n",
      "    },\n",
      "    \"meta\": {}\n",
      "  },\n",
      "  \"result\": {\n",
      "    \"element_count\": 1320,\n",
      "    \"unexpected_count\": 0,\n",
      "    \"unexpected_percent\": 0.0,\n",
      "    \"partial_unexpected_list\": [],\n",
      "    \"missing_count\": 0,\n",
      "    \"missing_percent\": 0.0,\n",
      "    \"unexpected_percent_total\": 0.0,\n",
      "    \"unexpected_percent_nonmissing\": 0.0,\n",
      "    \"partial_unexpected_counts\": [],\n",
      "    \"partial_unexpected_index_list\": []\n",
      "  },\n",
      "  \"meta\": {},\n",
      "  \"exception_info\": {\n",
      "    \"raised_exception\": false,\n",
      "    \"exception_traceback\": null,\n",
      "    \"exception_message\": null\n",
      "  }\n",
      "}\n"
     ]
    }
   ],
   "source": [
    "expectation = ge.expectations.ExpectColumnValuesToBeUnique(\n",
    "    column='user_id'\n",
    ")\n",
    "\n",
    "validation_result = batch.validate(expectation)\n",
    "print (validation_result)"
   ]
  },
  {
   "cell_type": "code",
   "execution_count": 6,
   "metadata": {},
   "outputs": [
    {
     "data": {
      "application/vnd.jupyter.widget-view+json": {
       "model_id": "13874f2b7a2a4c52a0193d565498a6b3",
       "version_major": 2,
       "version_minor": 0
      },
      "text/plain": [
       "Calculating Metrics:   0%|          | 0/10 [00:00<?, ?it/s]"
      ]
     },
     "metadata": {},
     "output_type": "display_data"
    },
    {
     "name": "stdout",
     "output_type": "stream",
     "text": [
      "{\n",
      "  \"success\": true,\n",
      "  \"expectation_config\": {\n",
      "    \"type\": \"expect_column_values_to_be_in_set\",\n",
      "    \"kwargs\": {\n",
      "      \"batch_id\": \"pandas_3-pd dataframe asset\",\n",
      "      \"column\": \"vehicle_model\",\n",
      "      \"value_set\": [\n",
      "        \"BMW i3\",\n",
      "        \"Tesla Model 3\",\n",
      "        \"Nissan Leaf\",\n",
      "        \"Chevy Bolt\",\n",
      "        \"Hyundai Kona\"\n",
      "      ]\n",
      "    },\n",
      "    \"meta\": {}\n",
      "  },\n",
      "  \"result\": {\n",
      "    \"element_count\": 1320,\n",
      "    \"unexpected_count\": 0,\n",
      "    \"unexpected_percent\": 0.0,\n",
      "    \"partial_unexpected_list\": [],\n",
      "    \"missing_count\": 0,\n",
      "    \"missing_percent\": 0.0,\n",
      "    \"unexpected_percent_total\": 0.0,\n",
      "    \"unexpected_percent_nonmissing\": 0.0,\n",
      "    \"partial_unexpected_counts\": [],\n",
      "    \"partial_unexpected_index_list\": []\n",
      "  },\n",
      "  \"meta\": {},\n",
      "  \"exception_info\": {\n",
      "    \"raised_exception\": false,\n",
      "    \"exception_traceback\": null,\n",
      "    \"exception_message\": null\n",
      "  }\n",
      "}\n"
     ]
    }
   ],
   "source": [
    "valid_vehicle_models = [\"BMW i3\", \"Tesla Model 3\", \"Nissan Leaf\", \"Chevy Bolt\", \"Hyundai Kona\"]\n",
    "expectation = ge.expectations.ExpectColumnValuesToBeInSet(\n",
    "    column='vehicle_model',\n",
    "    value_set=valid_vehicle_models\n",
    ")\n",
    "\n",
    "validation_result = batch.validate(expectation)\n",
    "print (validation_result)"
   ]
  },
  {
   "cell_type": "code",
   "execution_count": 7,
   "metadata": {},
   "outputs": [
    {
     "data": {
      "application/vnd.jupyter.widget-view+json": {
       "model_id": "d78d766551c64cff8057e1624775d417",
       "version_major": 2,
       "version_minor": 0
      },
      "text/plain": [
       "Calculating Metrics:   0%|          | 0/1 [00:00<?, ?it/s]"
      ]
     },
     "metadata": {},
     "output_type": "display_data"
    },
    {
     "name": "stdout",
     "output_type": "stream",
     "text": [
      "{\n",
      "  \"success\": true,\n",
      "  \"expectation_config\": {\n",
      "    \"type\": \"expect_column_values_to_be_in_type_list\",\n",
      "    \"kwargs\": {\n",
      "      \"batch_id\": \"pandas_3-pd dataframe asset\",\n",
      "      \"column\": \"temperature_c\",\n",
      "      \"type_list\": [\n",
      "        \"FLOAT\"\n",
      "      ]\n",
      "    },\n",
      "    \"meta\": {}\n",
      "  },\n",
      "  \"result\": {\n",
      "    \"observed_value\": \"float64\"\n",
      "  },\n",
      "  \"meta\": {},\n",
      "  \"exception_info\": {\n",
      "    \"raised_exception\": false,\n",
      "    \"exception_traceback\": null,\n",
      "    \"exception_message\": null\n",
      "  }\n",
      "}\n"
     ]
    }
   ],
   "source": [
    "expectation = ge.expectations.ExpectColumnValuesToBeInTypeList(\n",
    "    column='temperature_c',\n",
    "    type_list=[\"FLOAT\"]\n",
    ")\n",
    "\n",
    "validation_result = batch.validate(expectation)\n",
    "print (validation_result)"
   ]
  },
  {
   "cell_type": "code",
   "execution_count": 8,
   "metadata": {},
   "outputs": [
    {
     "data": {
      "application/vnd.jupyter.widget-view+json": {
       "model_id": "903030c52d574117b6f35eceaf636eaa",
       "version_major": 2,
       "version_minor": 0
      },
      "text/plain": [
       "Calculating Metrics:   0%|          | 0/10 [00:00<?, ?it/s]"
      ]
     },
     "metadata": {},
     "output_type": "display_data"
    },
    {
     "name": "stdout",
     "output_type": "stream",
     "text": [
      "{\n",
      "  \"success\": true,\n",
      "  \"expectation_config\": {\n",
      "    \"type\": \"expect_column_values_to_be_between\",\n",
      "    \"kwargs\": {\n",
      "      \"batch_id\": \"pandas_3-pd dataframe asset\",\n",
      "      \"column\": \"charging_duration_hours\",\n",
      "      \"min_value\": 0.0,\n",
      "      \"max_value\": 24.0\n",
      "    },\n",
      "    \"meta\": {}\n",
      "  },\n",
      "  \"result\": {\n",
      "    \"element_count\": 1320,\n",
      "    \"unexpected_count\": 0,\n",
      "    \"unexpected_percent\": 0.0,\n",
      "    \"partial_unexpected_list\": [],\n",
      "    \"missing_count\": 0,\n",
      "    \"missing_percent\": 0.0,\n",
      "    \"unexpected_percent_total\": 0.0,\n",
      "    \"unexpected_percent_nonmissing\": 0.0,\n",
      "    \"partial_unexpected_counts\": [],\n",
      "    \"partial_unexpected_index_list\": []\n",
      "  },\n",
      "  \"meta\": {},\n",
      "  \"exception_info\": {\n",
      "    \"raised_exception\": false,\n",
      "    \"exception_traceback\": null,\n",
      "    \"exception_message\": null\n",
      "  }\n",
      "}\n"
     ]
    }
   ],
   "source": [
    "expectation = ge.expectations.ExpectColumnValuesToBeBetween(\n",
    "    column=\"charging_duration_hours\",\n",
    "    min_value=0,\n",
    "    max_value=24\n",
    ")\n",
    "\n",
    "validation_result = batch.validate(expectation)\n",
    "print (validation_result)"
   ]
  },
  {
   "cell_type": "code",
   "execution_count": 9,
   "metadata": {},
   "outputs": [
    {
     "data": {
      "application/vnd.jupyter.widget-view+json": {
       "model_id": "fd5e18385de44015833c6126f326eafd",
       "version_major": 2,
       "version_minor": 0
      },
      "text/plain": [
       "Calculating Metrics:   0%|          | 0/8 [00:00<?, ?it/s]"
      ]
     },
     "metadata": {},
     "output_type": "display_data"
    },
    {
     "name": "stdout",
     "output_type": "stream",
     "text": [
      "{\n",
      "  \"success\": true,\n",
      "  \"expectation_config\": {\n",
      "    \"type\": \"expect_column_values_to_not_be_null\",\n",
      "    \"kwargs\": {\n",
      "      \"batch_id\": \"pandas_3-pd dataframe asset\",\n",
      "      \"column\": \"charging_cost_usd\"\n",
      "    },\n",
      "    \"meta\": {}\n",
      "  },\n",
      "  \"result\": {\n",
      "    \"element_count\": 1320,\n",
      "    \"unexpected_count\": 0,\n",
      "    \"unexpected_percent\": 0.0,\n",
      "    \"partial_unexpected_list\": [],\n",
      "    \"partial_unexpected_counts\": [],\n",
      "    \"partial_unexpected_index_list\": []\n",
      "  },\n",
      "  \"meta\": {},\n",
      "  \"exception_info\": {\n",
      "    \"raised_exception\": false,\n",
      "    \"exception_traceback\": null,\n",
      "    \"exception_message\": null\n",
      "  }\n",
      "}\n"
     ]
    }
   ],
   "source": [
    "expectation = ge.expectations.ExpectColumnValuesToNotBeNull(\n",
    "    column=\"charging_cost_usd\"\n",
    ")\n",
    "\n",
    "validation_result = batch.validate(expectation)\n",
    "print (validation_result)"
   ]
  },
  {
   "cell_type": "code",
   "execution_count": 10,
   "metadata": {},
   "outputs": [
    {
     "data": {
      "application/vnd.jupyter.widget-view+json": {
       "model_id": "a94184d208ad4c068658d121e0838587",
       "version_major": 2,
       "version_minor": 0
      },
      "text/plain": [
       "Calculating Metrics:   0%|          | 0/4 [00:00<?, ?it/s]"
      ]
     },
     "metadata": {},
     "output_type": "display_data"
    },
    {
     "name": "stdout",
     "output_type": "stream",
     "text": [
      "{\n",
      "  \"success\": true,\n",
      "  \"expectation_config\": {\n",
      "    \"type\": \"expect_column_max_to_be_between\",\n",
      "    \"kwargs\": {\n",
      "      \"batch_id\": \"pandas_3-pd dataframe asset\",\n",
      "      \"column\": \"charging_cost_usd\",\n",
      "      \"min_value\": 0.0,\n",
      "      \"max_value\": 100.0\n",
      "    },\n",
      "    \"meta\": {}\n",
      "  },\n",
      "  \"result\": {\n",
      "    \"observed_value\": 69.4077431939\n",
      "  },\n",
      "  \"meta\": {},\n",
      "  \"exception_info\": {\n",
      "    \"raised_exception\": false,\n",
      "    \"exception_traceback\": null,\n",
      "    \"exception_message\": null\n",
      "  }\n",
      "}\n"
     ]
    }
   ],
   "source": [
    "expectation = ge.expectations.ExpectColumnMaxToBeBetween(\n",
    "    column=\"charging_cost_usd\",\n",
    "    min_value=0,\n",
    "    max_value=100\n",
    ")\n",
    "\n",
    "validation_result = batch.validate(expectation)\n",
    "print (validation_result)"
   ]
  },
  {
   "cell_type": "code",
   "execution_count": 11,
   "metadata": {},
   "outputs": [
    {
     "data": {
      "application/vnd.jupyter.widget-view+json": {
       "model_id": "5e0ae83a26e64448afd528ed5119c006",
       "version_major": 2,
       "version_minor": 0
      },
      "text/plain": [
       "Calculating Metrics:   0%|          | 0/4 [00:00<?, ?it/s]"
      ]
     },
     "metadata": {},
     "output_type": "display_data"
    },
    {
     "name": "stdout",
     "output_type": "stream",
     "text": [
      "{\n",
      "  \"success\": true,\n",
      "  \"expectation_config\": {\n",
      "    \"type\": \"expect_column_distinct_values_to_contain_set\",\n",
      "    \"kwargs\": {\n",
      "      \"batch_id\": \"pandas_3-pd dataframe asset\",\n",
      "      \"column\": \"day_of_week\",\n",
      "      \"value_set\": [\n",
      "        \"Monday\",\n",
      "        \"Tuesday\",\n",
      "        \"Wednesday\",\n",
      "        \"Thursday\",\n",
      "        \"Friday\",\n",
      "        \"Saturday\",\n",
      "        \"Sunday\"\n",
      "      ]\n",
      "    },\n",
      "    \"meta\": {}\n",
      "  },\n",
      "  \"result\": {\n",
      "    \"observed_value\": [\n",
      "      \"Friday\",\n",
      "      \"Monday\",\n",
      "      \"Saturday\",\n",
      "      \"Sunday\",\n",
      "      \"Thursday\",\n",
      "      \"Tuesday\",\n",
      "      \"Wednesday\"\n",
      "    ],\n",
      "    \"details\": {\n",
      "      \"value_counts\": [\n",
      "        {\n",
      "          \"value\": \"Friday\",\n",
      "          \"count\": 188\n",
      "        },\n",
      "        {\n",
      "          \"value\": \"Monday\",\n",
      "          \"count\": 185\n",
      "        },\n",
      "        {\n",
      "          \"value\": \"Saturday\",\n",
      "          \"count\": 205\n",
      "        },\n",
      "        {\n",
      "          \"value\": \"Sunday\",\n",
      "          \"count\": 191\n",
      "        },\n",
      "        {\n",
      "          \"value\": \"Thursday\",\n",
      "          \"count\": 154\n",
      "        },\n",
      "        {\n",
      "          \"value\": \"Tuesday\",\n",
      "          \"count\": 200\n",
      "        },\n",
      "        {\n",
      "          \"value\": \"Wednesday\",\n",
      "          \"count\": 197\n",
      "        }\n",
      "      ]\n",
      "    }\n",
      "  },\n",
      "  \"meta\": {},\n",
      "  \"exception_info\": {\n",
      "    \"raised_exception\": false,\n",
      "    \"exception_traceback\": null,\n",
      "    \"exception_message\": null\n",
      "  }\n",
      "}\n"
     ]
    }
   ],
   "source": [
    "expectation = ge.expectations.ExpectColumnDistinctValuesToContainSet(\n",
    "    column=\"day_of_week\",\n",
    "    value_set=['Monday', 'Tuesday', 'Wednesday', 'Thursday', 'Friday', 'Saturday', 'Sunday']\n",
    ")\n",
    "\n",
    "validation_result = batch.validate(expectation)\n",
    "print (validation_result)"
   ]
  }
 ],
 "metadata": {
  "kernelspec": {
   "display_name": "base",
   "language": "python",
   "name": "python3"
  },
  "language_info": {
   "codemirror_mode": {
    "name": "ipython",
    "version": 3
   },
   "file_extension": ".py",
   "mimetype": "text/x-python",
   "name": "python",
   "nbconvert_exporter": "python",
   "pygments_lexer": "ipython3",
   "version": "3.12.4"
  }
 },
 "nbformat": 4,
 "nbformat_minor": 2
}
